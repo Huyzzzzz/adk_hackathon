{
 "cells": [
  {
   "cell_type": "code",
   "execution_count": 1,
   "id": "4a02de62",
   "metadata": {},
   "outputs": [],
   "source": [
    "import json\n",
    "from datetime import datetime\n",
    "from typing import Any, Dict\n",
    "from pathlib import Path\n",
    "\n",
    "\n",
    "def json_to_markdown(data: Any) -> str:\n",
    "    \"\"\"\n",
    "    Convert JSON data to Markdown format.\n",
    "\n",
    "    Args:\n",
    "        data: JSON data (dict, list, or any JSON-serializable object)\n",
    "\n",
    "    Returns:\n",
    "        Formatted Markdown string\n",
    "    \"\"\"\n",
    "    markdown = f\"*Generated on: {datetime.now().isoformat()}*\\n\\n\"\n",
    "    markdown += _convert_value(data, 0)\n",
    "    return markdown\n",
    "\n",
    "\n",
    "def _convert_value(value: Any, depth: int) -> str:\n",
    "    \"\"\"Convert a JSON value to Markdown format recursively.\"\"\"\n",
    "    indent = \"  \"\n",
    "    indent_str = indent * depth\n",
    "\n",
    "    if value is None:\n",
    "        return \"`null`\"\n",
    "    elif isinstance(value, bool):\n",
    "        return f\"`{str(value).lower()}`\"\n",
    "    elif isinstance(value, (int, float)):\n",
    "        return f\"`{value}`\"\n",
    "    elif isinstance(value, str):\n",
    "        escaped = value.replace('*', '\\\\*').replace('_', '\\\\_').replace('`', '\\\\`')\n",
    "        return escaped\n",
    "    elif isinstance(value, list):\n",
    "        if not value:\n",
    "            return \"*(empty array)*\"\n",
    "        result = \"\\n\"\n",
    "        for item in value:\n",
    "            result += f\"{indent_str}- {_convert_value(item, depth + 1)}\\n\"\n",
    "        return result\n",
    "    elif isinstance(value, dict):\n",
    "        if not value:\n",
    "            return \"*(empty object)*\"\n",
    "        result = \"\\n\"\n",
    "        for key, val in value.items():\n",
    "            escaped_key = str(key).replace('*', '\\\\*').replace('_', '\\\\_')\n",
    "            result += f\"{indent_str}**{escaped_key}**: {_convert_value(val, depth + 1)}\\n\"\n",
    "        return result\n",
    "    else:\n",
    "        return str(value)\n",
    "\n",
    "\n",
    "def save_markdown_file(content: str, filename: str = \"output.md\", folder_path: str = \"./\") -> str:\n",
    "    \"\"\"\n",
    "    Save markdown content to a file.\n",
    "\n",
    "    Args:\n",
    "        content: Markdown content to save\n",
    "        filename: Name of the output file\n",
    "        folder_path: Path to the folder where file should be saved\n",
    "\n",
    "    Returns:\n",
    "        Full path of the saved file\n",
    "    \"\"\"\n",
    "    folder = Path(folder_path)\n",
    "    file_path = folder / filename\n",
    "\n",
    "    folder.mkdir(parents=True, exist_ok=True)\n",
    "\n",
    "    try:\n",
    "        with open(file_path, 'w', encoding='utf-8') as f:\n",
    "            f.write(content)\n",
    "        print(f\"Markdown file saved to: {file_path.absolute()}\")\n",
    "        return str(file_path.absolute())\n",
    "    except Exception as e:\n",
    "        print(f\"Error saving file: {e}\")\n",
    "        raise\n",
    "\n",
    "\n",
    "def convert_and_save_json(data: Any, folder_path: str = \"./\") -> Dict[str, Any]:\n",
    "    \"\"\"\n",
    "    Convert JSON data to Markdown and save to file.\n",
    "\n",
    "    Args:\n",
    "        data: JSON data to convert\n",
    "        folder_path: Directory to save the file\n",
    "\n",
    "    Returns:\n",
    "        Dictionary with success status, markdown content, and saved path\n",
    "    \"\"\"\n",
    "    try:\n",
    "        filename = f\"output_version_{datetime.now().strftime('%Y%m%d%H%M%S')}.md\"\n",
    "        markdown = json_to_markdown(data)\n",
    "        saved_path = save_markdown_file(markdown, filename, folder_path)\n",
    "        return {\n",
    "            \"success\": True,\n",
    "            \"markdown\": markdown,\n",
    "            \"saved_path\": saved_path\n",
    "        }\n",
    "    except Exception as e:\n",
    "        return {\n",
    "            \"success\": False,\n",
    "            \"error\": str(e)\n",
    "        }\n"
   ]
  },
  {
   "cell_type": "code",
   "execution_count": 2,
   "id": "67efb8a5",
   "metadata": {},
   "outputs": [],
   "source": [
    "JSON = {'requirements': [\n",
    "    {'id': 'FR001', 'name': 'API Capabilities', 'source': 'User Request', 'type': 'Functional', 'detail': 'The system should provide API capabilities to integrate with other systems.', 'covered_usr': 'N/A'},\n",
    "    {'id': 'FR002', 'name': 'Supply Chain Management Knowledge', 'source': 'User Request', 'type': 'Functional', 'detail': 'The system should have knowledge of supply chain management processes.', 'covered_usr': 'N/A'},\n",
    "    {'id': 'FR003', 'name': 'Multilingual Assistance', 'source': 'User Request', 'type': 'Functional', 'detail': 'The system should provide multilingual assistance to users.', 'covered_usr': 'N/A'},\n",
    "    {'id': 'FR004', 'name': 'Seamless Transitions', 'source': 'User Request', 'type': 'Functional', 'detail': 'The system should allow for seamless transitions between different functionalities.', 'covered_usr': 'N/A'},\n",
    "    {'id': 'FR005', 'name': 'Texting Capabilities', 'source': 'User Request', 'type': 'Functional', 'detail': 'The system should support texting capabilities.', 'covered_usr': 'N/A'},\n",
    "    {'id': 'FR006', 'name': 'CRM Integration', 'source': 'User Request', 'type': 'Functional', 'detail': 'The system should integrate with existing CRM systems.', 'covered_usr': 'N/A'},\n",
    "    {'id': 'FR007', 'name': 'Content Scraping', 'source': 'User Request', 'type': 'Functional', 'detail': 'The system should be able to perform content scraping from various sources.', 'covered_usr': 'N/A'},\n",
    "    {'id': 'FR008', 'name': 'Ease of Use and Mobile Capability', 'source': 'User Request', 'type': 'Functional', 'detail': 'The system should be easy to use and accessible on mobile devices.', 'covered_usr': 'N/A'},\n",
    "    {'id': 'FR009', 'name': 'Improved Customer Service', 'source': 'User Request', 'type': 'Functional', 'detail': 'The system should improve customer service.', 'covered_usr': 'N/A'},\n",
    "    {'id': 'FR010', 'name': 'Reduced Case Volume', 'source': 'User Request', 'type': 'Functional', 'detail': 'The system should reduce the volume of customer service cases.', 'covered_usr': 'N/A'},\n",
    "    {'id': 'FR011', 'name': 'Optimized Workflows', 'source': 'User Request', 'type': 'Functional', 'detail': 'The system should optimize existing workflows.', 'covered_usr': 'N/A'},\n",
    "    {'id': 'FR012', 'name': 'Enhanced Student Support and Retention', 'source': 'User Request', 'type': 'Functional', 'detail': 'The system should enhance student support and retention efforts.', 'covered_usr': 'N/A'},\n",
    "    {'id': 'FR013', 'name': 'Streamlined Information Access', 'source': 'User Request', 'type': 'Functional', 'detail': 'The system should streamline access to information.', 'covered_usr': 'N/A'},\n",
    "    {'id': 'NFR001', 'name': 'Accuracy', 'source': 'User Request', 'type': 'Non-Functional', 'detail': 'The system should provide accurate information and results.', 'covered_usr': 'N/A'},\n",
    "    {'id': 'NFR002', 'name': 'Reliability', 'source': 'User Request', 'type': 'Non-Functional', 'detail': 'The system should be reliable and available when needed.', 'covered_usr': 'N/A'},\n",
    "    {'id': 'NFR003', 'name': 'Timeliness', 'source': 'User Request', 'type': 'Non-Functional', 'detail': 'The system should provide timely responses and information.', 'covered_usr': 'N/A'}\n",
    "]}\n"
   ]
  },
  {
   "cell_type": "code",
   "execution_count": 5,
   "id": "b8ce95d2",
   "metadata": {},
   "outputs": [],
   "source": [
    "JSON = {\"parts\":[{\"text\":\"For context:\"},{\"text\":\"[ur_agent] `user_requirements_extraction` tool returned result: {'requirements': [{'id': 'FR001', 'name': 'API Capabilities', 'source': 'User Request', 'type': 'Functional', 'detail': 'The system should provide API capabilities to allow integration with other systems.', 'covered_usr': 'N/A'}, {'id': 'FR002', 'name': 'Supply Chain Management Knowledge', 'source': 'User Request', 'type': 'Functional', 'detail': 'The system should possess knowledge related to supply chain management.', 'covered_usr': 'N/A'}, {'id': 'FR003', 'name': 'Multilingual Assistance', 'source': 'User Request', 'type': 'Functional', 'detail': 'The system should provide multilingual assistance to users.', 'covered_usr': 'N/A'}, {'id': 'FR004', 'name': 'Seamless Transitions', 'source': 'User Request', 'type': 'Functional', 'detail': 'The system should allow seamless transitions between different functionalities.', 'covered_usr': 'N/A'}, {'id': 'FR005', 'name': 'Texting Capabilities', 'source': 'User Request', 'type': 'Functional', 'detail': 'The system should have texting capabilities.', 'covered_usr': 'N/A'}, {'id': 'FR006', 'name': 'CRM Integration', 'source': 'User Request', 'type': 'Functional', 'detail': 'The system should integrate with CRM systems.', 'covered_usr': 'N/A'}, {'id': 'FR007', 'name': 'Content Scraping', 'source': 'User Request', 'type': 'Functional', 'detail': 'The system should have the ability to scrape content from various sources.', 'covered_usr': 'N/A'}, {'id': 'FR008', 'name': 'Ease of Use', 'source': 'User Request', 'type': 'Functional', 'detail': 'The system should be easy to use.', 'covered_usr': 'N/A'}, {'id': 'FR009', 'name': 'Mobile Capability', 'source': 'User Request', 'type': 'Functional', 'detail': 'The system should be accessible and functional on mobile devices.', 'covered_usr': 'N/A'}, {'id': 'FR010', 'name': 'Improved Customer Service', 'source': 'User Request', 'type': 'Functional', 'detail': 'The system should contribute to improved customer service.', 'covered_usr': 'N/A'}, {'id': 'FR011', 'name': 'Reduced Case Volume', 'source': 'User Request', 'type': 'Functional', 'detail': 'The system should help reduce customer service case volume.', 'covered_usr': 'N/A'}, {'id': 'FR012', 'name': 'Optimized Workflows', 'source': 'User Request', 'type': 'Functional', 'detail': 'The system should optimize existing workflows.', 'covered_usr': 'N/A'}, {'id': 'FR013', 'name': 'Enhanced Student Support and Retention', 'source': 'User Request', 'type': 'Functional', 'detail': 'The system should enhance student support and retention efforts.', 'covered_usr': 'N/A'}, {'id': 'FR014', 'name': 'Streamlined Information Access', 'source': 'User Request', 'type': 'Functional', 'detail': 'The system should provide streamlined access to information.', 'covered_usr': 'N/A'}, {'id': 'NFR001', 'name': 'Accuracy', 'source': 'User Request', 'type': 'Non-Functional', 'detail': 'The system should provide accurate information and results.', 'covered_usr': 'N/A'}, {'id': 'NFR002', 'name': 'Reliability', 'source': 'User Request', 'type': 'Non-Functional', 'detail': 'The system should be reliable and consistently perform as expected.', 'covered_usr': 'N/A'}, {'id': 'NFR003', 'name': 'Timeliness', 'source': 'User Request', 'type': 'Non-Functional', 'detail': 'The system should provide timely information and responses.', 'covered_usr': 'N/A'}]}\"}],\"role\":\"user\"}"
   ]
  },
  {
   "cell_type": "code",
   "execution_count": 6,
   "id": "a17a1b35",
   "metadata": {},
   "outputs": [
    {
     "name": "stdout",
     "output_type": "stream",
     "text": [
      "Markdown file saved to: c:\\Users\\Admin\\Desktop\\INTERN\\adk_hackathon\\business_analyst\\..\\assets\\output\\output_version_20250610132855.md\n"
     ]
    },
    {
     "data": {
      "text/plain": [
       "{'success': True,\n",
       " 'markdown': \"*Generated on: 2025-06-10T13:28:55.749804*\\n\\n\\n**parts**: \\n  - \\n    **text**: For context:\\n\\n  - \\n    **text**: [ur\\\\_agent] \\\\`user\\\\_requirements\\\\_extraction\\\\` tool returned result: {'requirements': [{'id': 'FR001', 'name': 'API Capabilities', 'source': 'User Request', 'type': 'Functional', 'detail': 'The system should provide API capabilities to allow integration with other systems.', 'covered\\\\_usr': 'N/A'}, {'id': 'FR002', 'name': 'Supply Chain Management Knowledge', 'source': 'User Request', 'type': 'Functional', 'detail': 'The system should possess knowledge related to supply chain management.', 'covered\\\\_usr': 'N/A'}, {'id': 'FR003', 'name': 'Multilingual Assistance', 'source': 'User Request', 'type': 'Functional', 'detail': 'The system should provide multilingual assistance to users.', 'covered\\\\_usr': 'N/A'}, {'id': 'FR004', 'name': 'Seamless Transitions', 'source': 'User Request', 'type': 'Functional', 'detail': 'The system should allow seamless transitions between different functionalities.', 'covered\\\\_usr': 'N/A'}, {'id': 'FR005', 'name': 'Texting Capabilities', 'source': 'User Request', 'type': 'Functional', 'detail': 'The system should have texting capabilities.', 'covered\\\\_usr': 'N/A'}, {'id': 'FR006', 'name': 'CRM Integration', 'source': 'User Request', 'type': 'Functional', 'detail': 'The system should integrate with CRM systems.', 'covered\\\\_usr': 'N/A'}, {'id': 'FR007', 'name': 'Content Scraping', 'source': 'User Request', 'type': 'Functional', 'detail': 'The system should have the ability to scrape content from various sources.', 'covered\\\\_usr': 'N/A'}, {'id': 'FR008', 'name': 'Ease of Use', 'source': 'User Request', 'type': 'Functional', 'detail': 'The system should be easy to use.', 'covered\\\\_usr': 'N/A'}, {'id': 'FR009', 'name': 'Mobile Capability', 'source': 'User Request', 'type': 'Functional', 'detail': 'The system should be accessible and functional on mobile devices.', 'covered\\\\_usr': 'N/A'}, {'id': 'FR010', 'name': 'Improved Customer Service', 'source': 'User Request', 'type': 'Functional', 'detail': 'The system should contribute to improved customer service.', 'covered\\\\_usr': 'N/A'}, {'id': 'FR011', 'name': 'Reduced Case Volume', 'source': 'User Request', 'type': 'Functional', 'detail': 'The system should help reduce customer service case volume.', 'covered\\\\_usr': 'N/A'}, {'id': 'FR012', 'name': 'Optimized Workflows', 'source': 'User Request', 'type': 'Functional', 'detail': 'The system should optimize existing workflows.', 'covered\\\\_usr': 'N/A'}, {'id': 'FR013', 'name': 'Enhanced Student Support and Retention', 'source': 'User Request', 'type': 'Functional', 'detail': 'The system should enhance student support and retention efforts.', 'covered\\\\_usr': 'N/A'}, {'id': 'FR014', 'name': 'Streamlined Information Access', 'source': 'User Request', 'type': 'Functional', 'detail': 'The system should provide streamlined access to information.', 'covered\\\\_usr': 'N/A'}, {'id': 'NFR001', 'name': 'Accuracy', 'source': 'User Request', 'type': 'Non-Functional', 'detail': 'The system should provide accurate information and results.', 'covered\\\\_usr': 'N/A'}, {'id': 'NFR002', 'name': 'Reliability', 'source': 'User Request', 'type': 'Non-Functional', 'detail': 'The system should be reliable and consistently perform as expected.', 'covered\\\\_usr': 'N/A'}, {'id': 'NFR003', 'name': 'Timeliness', 'source': 'User Request', 'type': 'Non-Functional', 'detail': 'The system should provide timely information and responses.', 'covered\\\\_usr': 'N/A'}]}\\n\\n\\n**role**: user\\n\",\n",
       " 'saved_path': 'c:\\\\Users\\\\Admin\\\\Desktop\\\\INTERN\\\\adk_hackathon\\\\business_analyst\\\\..\\\\assets\\\\output\\\\output_version_20250610132855.md'}"
      ]
     },
     "execution_count": 6,
     "metadata": {},
     "output_type": "execute_result"
    }
   ],
   "source": [
    "convert_and_save_json(JSON, folder_path=\"../assets/output/\")"
   ]
  }
 ],
 "metadata": {
  "kernelspec": {
   "display_name": "Python (my_env)",
   "language": "python",
   "name": "my_env"
  },
  "language_info": {
   "codemirror_mode": {
    "name": "ipython",
    "version": 3
   },
   "file_extension": ".py",
   "mimetype": "text/x-python",
   "name": "python",
   "nbconvert_exporter": "python",
   "pygments_lexer": "ipython3",
   "version": "3.11.9"
  }
 },
 "nbformat": 4,
 "nbformat_minor": 5
}
